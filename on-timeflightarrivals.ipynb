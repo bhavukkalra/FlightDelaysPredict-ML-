{
  "cells": [
    {
      "metadata": {},
      "cell_type": "markdown",
      "source": "FROM MICROSOFT LEARN"
    },
    {
      "metadata": {
        "trusted": true
      },
      "cell_type": "code",
      "source": "\n\n!curl https://topcs.blob.core.windows.net/public/FlightData.csv -o flightdata.csv\n#download the csv    \n",
      "execution_count": 2,
      "outputs": [
        {
          "output_type": "stream",
          "text": "  % Total    % Received % Xferd  Average Speed   Time    Time     Time  Current\n                                 Dload  Upload   Total   Spent    Left  Speed\n100 1552k  100 1552k    0     0  1226k      0  0:00:01  0:00:01 --:--:-- 1230k\n",
          "name": "stdout"
        }
      ]
    },
    {
      "metadata": {
        "trusted": true
      },
      "cell_type": "code",
      "source": "",
      "execution_count": null,
      "outputs": []
    },
    {
      "metadata": {
        "trusted": true
      },
      "cell_type": "code",
      "source": "import pandas as pd\n\ndf = pd.read_csv('flightdata.csv')\ndf.head()",
      "execution_count": 3,
      "outputs": [
        {
          "output_type": "execute_result",
          "execution_count": 3,
          "data": {
            "text/html": "<div>\n<style scoped>\n    .dataframe tbody tr th:only-of-type {\n        vertical-align: middle;\n    }\n\n    .dataframe tbody tr th {\n        vertical-align: top;\n    }\n\n    .dataframe thead th {\n        text-align: right;\n    }\n</style>\n<table border=\"1\" class=\"dataframe\">\n  <thead>\n    <tr style=\"text-align: right;\">\n      <th></th>\n      <th>YEAR</th>\n      <th>QUARTER</th>\n      <th>MONTH</th>\n      <th>DAY_OF_MONTH</th>\n      <th>DAY_OF_WEEK</th>\n      <th>UNIQUE_CARRIER</th>\n      <th>TAIL_NUM</th>\n      <th>FL_NUM</th>\n      <th>ORIGIN_AIRPORT_ID</th>\n      <th>ORIGIN</th>\n      <th>...</th>\n      <th>CRS_ARR_TIME</th>\n      <th>ARR_TIME</th>\n      <th>ARR_DELAY</th>\n      <th>ARR_DEL15</th>\n      <th>CANCELLED</th>\n      <th>DIVERTED</th>\n      <th>CRS_ELAPSED_TIME</th>\n      <th>ACTUAL_ELAPSED_TIME</th>\n      <th>DISTANCE</th>\n      <th>Unnamed: 25</th>\n    </tr>\n  </thead>\n  <tbody>\n    <tr>\n      <th>0</th>\n      <td>2016</td>\n      <td>1</td>\n      <td>1</td>\n      <td>1</td>\n      <td>5</td>\n      <td>DL</td>\n      <td>N836DN</td>\n      <td>1399</td>\n      <td>10397</td>\n      <td>ATL</td>\n      <td>...</td>\n      <td>2143</td>\n      <td>2102.0</td>\n      <td>-41.0</td>\n      <td>0.0</td>\n      <td>0.0</td>\n      <td>0.0</td>\n      <td>338.0</td>\n      <td>295.0</td>\n      <td>2182.0</td>\n      <td>NaN</td>\n    </tr>\n    <tr>\n      <th>1</th>\n      <td>2016</td>\n      <td>1</td>\n      <td>1</td>\n      <td>1</td>\n      <td>5</td>\n      <td>DL</td>\n      <td>N964DN</td>\n      <td>1476</td>\n      <td>11433</td>\n      <td>DTW</td>\n      <td>...</td>\n      <td>1435</td>\n      <td>1439.0</td>\n      <td>4.0</td>\n      <td>0.0</td>\n      <td>0.0</td>\n      <td>0.0</td>\n      <td>110.0</td>\n      <td>115.0</td>\n      <td>528.0</td>\n      <td>NaN</td>\n    </tr>\n    <tr>\n      <th>2</th>\n      <td>2016</td>\n      <td>1</td>\n      <td>1</td>\n      <td>1</td>\n      <td>5</td>\n      <td>DL</td>\n      <td>N813DN</td>\n      <td>1597</td>\n      <td>10397</td>\n      <td>ATL</td>\n      <td>...</td>\n      <td>1215</td>\n      <td>1142.0</td>\n      <td>-33.0</td>\n      <td>0.0</td>\n      <td>0.0</td>\n      <td>0.0</td>\n      <td>335.0</td>\n      <td>300.0</td>\n      <td>2182.0</td>\n      <td>NaN</td>\n    </tr>\n    <tr>\n      <th>3</th>\n      <td>2016</td>\n      <td>1</td>\n      <td>1</td>\n      <td>1</td>\n      <td>5</td>\n      <td>DL</td>\n      <td>N587NW</td>\n      <td>1768</td>\n      <td>14747</td>\n      <td>SEA</td>\n      <td>...</td>\n      <td>1335</td>\n      <td>1345.0</td>\n      <td>10.0</td>\n      <td>0.0</td>\n      <td>0.0</td>\n      <td>0.0</td>\n      <td>196.0</td>\n      <td>205.0</td>\n      <td>1399.0</td>\n      <td>NaN</td>\n    </tr>\n    <tr>\n      <th>4</th>\n      <td>2016</td>\n      <td>1</td>\n      <td>1</td>\n      <td>1</td>\n      <td>5</td>\n      <td>DL</td>\n      <td>N836DN</td>\n      <td>1823</td>\n      <td>14747</td>\n      <td>SEA</td>\n      <td>...</td>\n      <td>607</td>\n      <td>615.0</td>\n      <td>8.0</td>\n      <td>0.0</td>\n      <td>0.0</td>\n      <td>0.0</td>\n      <td>247.0</td>\n      <td>259.0</td>\n      <td>1927.0</td>\n      <td>NaN</td>\n    </tr>\n  </tbody>\n</table>\n<p>5 rows × 26 columns</p>\n</div>",
            "text/plain": "   YEAR  QUARTER  MONTH  DAY_OF_MONTH  DAY_OF_WEEK UNIQUE_CARRIER TAIL_NUM  \\\n0  2016        1      1             1            5             DL   N836DN   \n1  2016        1      1             1            5             DL   N964DN   \n2  2016        1      1             1            5             DL   N813DN   \n3  2016        1      1             1            5             DL   N587NW   \n4  2016        1      1             1            5             DL   N836DN   \n\n   FL_NUM  ORIGIN_AIRPORT_ID ORIGIN     ...       CRS_ARR_TIME ARR_TIME  \\\n0    1399              10397    ATL     ...               2143   2102.0   \n1    1476              11433    DTW     ...               1435   1439.0   \n2    1597              10397    ATL     ...               1215   1142.0   \n3    1768              14747    SEA     ...               1335   1345.0   \n4    1823              14747    SEA     ...                607    615.0   \n\n   ARR_DELAY  ARR_DEL15  CANCELLED  DIVERTED  CRS_ELAPSED_TIME  \\\n0      -41.0        0.0        0.0       0.0             338.0   \n1        4.0        0.0        0.0       0.0             110.0   \n2      -33.0        0.0        0.0       0.0             335.0   \n3       10.0        0.0        0.0       0.0             196.0   \n4        8.0        0.0        0.0       0.0             247.0   \n\n   ACTUAL_ELAPSED_TIME  DISTANCE  Unnamed: 25  \n0                295.0    2182.0          NaN  \n1                115.0     528.0          NaN  \n2                300.0    2182.0          NaN  \n3                205.0    1399.0          NaN  \n4                259.0    1927.0          NaN  \n\n[5 rows x 26 columns]"
          },
          "metadata": {}
        }
      ]
    },
    {
      "metadata": {
        "trusted": true
      },
      "cell_type": "code",
      "source": "df.shape",
      "execution_count": 4,
      "outputs": [
        {
          "output_type": "execute_result",
          "execution_count": 4,
          "data": {
            "text/plain": "(11231, 26)"
          },
          "metadata": {}
        }
      ]
    },
    {
      "metadata": {
        "trusted": true
      },
      "cell_type": "code",
      "source": "#for selecting only usefull features out of the dataset\n#filling missing values\ndf.isnull().values.any()",
      "execution_count": 5,
      "outputs": [
        {
          "output_type": "execute_result",
          "execution_count": 5,
          "data": {
            "text/plain": "True"
          },
          "metadata": {}
        }
      ]
    },
    {
      "metadata": {
        "trusted": true
      },
      "cell_type": "code",
      "source": "df.isnull().sum()",
      "execution_count": 6,
      "outputs": [
        {
          "output_type": "execute_result",
          "execution_count": 6,
          "data": {
            "text/plain": "YEAR                       0\nQUARTER                    0\nMONTH                      0\nDAY_OF_MONTH               0\nDAY_OF_WEEK                0\nUNIQUE_CARRIER             0\nTAIL_NUM                   0\nFL_NUM                     0\nORIGIN_AIRPORT_ID          0\nORIGIN                     0\nDEST_AIRPORT_ID            0\nDEST                       0\nCRS_DEP_TIME               0\nDEP_TIME                 107\nDEP_DELAY                107\nDEP_DEL15                107\nCRS_ARR_TIME               0\nARR_TIME                 115\nARR_DELAY                188\nARR_DEL15                188\nCANCELLED                  0\nDIVERTED                   0\nCRS_ELAPSED_TIME           0\nACTUAL_ELAPSED_TIME      188\nDISTANCE                   0\nUnnamed: 25            11231\ndtype: int64"
          },
          "metadata": {}
        }
      ]
    },
    {
      "metadata": {
        "trusted": true
      },
      "cell_type": "code",
      "source": "#Unnamed an extrenous column that got created\n#while importing\ndf = df.drop('Unnamed: 25', axis=1)\ndf.isnull().sum()",
      "execution_count": 7,
      "outputs": [
        {
          "output_type": "execute_result",
          "execution_count": 7,
          "data": {
            "text/plain": "YEAR                     0\nQUARTER                  0\nMONTH                    0\nDAY_OF_MONTH             0\nDAY_OF_WEEK              0\nUNIQUE_CARRIER           0\nTAIL_NUM                 0\nFL_NUM                   0\nORIGIN_AIRPORT_ID        0\nORIGIN                   0\nDEST_AIRPORT_ID          0\nDEST                     0\nCRS_DEP_TIME             0\nDEP_TIME               107\nDEP_DELAY              107\nDEP_DEL15              107\nCRS_ARR_TIME             0\nARR_TIME               115\nARR_DELAY              188\nARR_DEL15              188\nCANCELLED                0\nDIVERTED                 0\nCRS_ELAPSED_TIME         0\nACTUAL_ELAPSED_TIME    188\nDISTANCE                 0\ndtype: int64"
          },
          "metadata": {}
        }
      ]
    },
    {
      "metadata": {
        "trusted": true
      },
      "cell_type": "code",
      "source": "#removing the columns that are not usefull for predicting flight delays and keeping only usefull ones\n#usefull\ndf = df[[\"MONTH\", \"DAY_OF_MONTH\", \"DAY_OF_WEEK\", \"ORIGIN\", \"DEST\", \"CRS_DEP_TIME\", \"ARR_DEL15\"]]\ndf.isnull().sum()",
      "execution_count": 8,
      "outputs": [
        {
          "output_type": "execute_result",
          "execution_count": 8,
          "data": {
            "text/plain": "MONTH             0\nDAY_OF_MONTH      0\nDAY_OF_WEEK       0\nORIGIN            0\nDEST              0\nCRS_DEP_TIME      0\nARR_DEL15       188\ndtype: int64"
          },
          "metadata": {}
        }
      ]
    },
    {
      "metadata": {
        "trusted": true
      },
      "cell_type": "code",
      "source": "#showing rows for which there is a missing values\n#NaN as flights were cancelled or diverted can be considered late \ndf[df.isnull().values.any(axis=1)]",
      "execution_count": 9,
      "outputs": [
        {
          "output_type": "execute_result",
          "execution_count": 9,
          "data": {
            "text/html": "<div>\n<style scoped>\n    .dataframe tbody tr th:only-of-type {\n        vertical-align: middle;\n    }\n\n    .dataframe tbody tr th {\n        vertical-align: top;\n    }\n\n    .dataframe thead th {\n        text-align: right;\n    }\n</style>\n<table border=\"1\" class=\"dataframe\">\n  <thead>\n    <tr style=\"text-align: right;\">\n      <th></th>\n      <th>MONTH</th>\n      <th>DAY_OF_MONTH</th>\n      <th>DAY_OF_WEEK</th>\n      <th>ORIGIN</th>\n      <th>DEST</th>\n      <th>CRS_DEP_TIME</th>\n      <th>ARR_DEL15</th>\n    </tr>\n  </thead>\n  <tbody>\n    <tr>\n      <th>177</th>\n      <td>1</td>\n      <td>9</td>\n      <td>6</td>\n      <td>MSP</td>\n      <td>SEA</td>\n      <td>701</td>\n      <td>NaN</td>\n    </tr>\n    <tr>\n      <th>179</th>\n      <td>1</td>\n      <td>10</td>\n      <td>7</td>\n      <td>MSP</td>\n      <td>DTW</td>\n      <td>1348</td>\n      <td>NaN</td>\n    </tr>\n    <tr>\n      <th>184</th>\n      <td>1</td>\n      <td>10</td>\n      <td>7</td>\n      <td>MSP</td>\n      <td>DTW</td>\n      <td>625</td>\n      <td>NaN</td>\n    </tr>\n    <tr>\n      <th>210</th>\n      <td>1</td>\n      <td>10</td>\n      <td>7</td>\n      <td>DTW</td>\n      <td>MSP</td>\n      <td>1200</td>\n      <td>NaN</td>\n    </tr>\n    <tr>\n      <th>478</th>\n      <td>1</td>\n      <td>22</td>\n      <td>5</td>\n      <td>SEA</td>\n      <td>JFK</td>\n      <td>2305</td>\n      <td>NaN</td>\n    </tr>\n    <tr>\n      <th>481</th>\n      <td>1</td>\n      <td>22</td>\n      <td>5</td>\n      <td>ATL</td>\n      <td>JFK</td>\n      <td>1745</td>\n      <td>NaN</td>\n    </tr>\n    <tr>\n      <th>491</th>\n      <td>1</td>\n      <td>22</td>\n      <td>5</td>\n      <td>MSP</td>\n      <td>JFK</td>\n      <td>1755</td>\n      <td>NaN</td>\n    </tr>\n    <tr>\n      <th>499</th>\n      <td>1</td>\n      <td>23</td>\n      <td>6</td>\n      <td>JFK</td>\n      <td>ATL</td>\n      <td>1325</td>\n      <td>NaN</td>\n    </tr>\n    <tr>\n      <th>500</th>\n      <td>1</td>\n      <td>23</td>\n      <td>6</td>\n      <td>JFK</td>\n      <td>ATL</td>\n      <td>1540</td>\n      <td>NaN</td>\n    </tr>\n    <tr>\n      <th>501</th>\n      <td>1</td>\n      <td>23</td>\n      <td>6</td>\n      <td>JFK</td>\n      <td>SEA</td>\n      <td>740</td>\n      <td>NaN</td>\n    </tr>\n    <tr>\n      <th>502</th>\n      <td>1</td>\n      <td>23</td>\n      <td>6</td>\n      <td>JFK</td>\n      <td>ATL</td>\n      <td>610</td>\n      <td>NaN</td>\n    </tr>\n    <tr>\n      <th>503</th>\n      <td>1</td>\n      <td>23</td>\n      <td>6</td>\n      <td>JFK</td>\n      <td>ATL</td>\n      <td>805</td>\n      <td>NaN</td>\n    </tr>\n    <tr>\n      <th>504</th>\n      <td>1</td>\n      <td>23</td>\n      <td>6</td>\n      <td>JFK</td>\n      <td>ATL</td>\n      <td>1715</td>\n      <td>NaN</td>\n    </tr>\n    <tr>\n      <th>505</th>\n      <td>1</td>\n      <td>23</td>\n      <td>6</td>\n      <td>JFK</td>\n      <td>SEA</td>\n      <td>1825</td>\n      <td>NaN</td>\n    </tr>\n    <tr>\n      <th>506</th>\n      <td>1</td>\n      <td>23</td>\n      <td>6</td>\n      <td>ATL</td>\n      <td>JFK</td>\n      <td>1205</td>\n      <td>NaN</td>\n    </tr>\n    <tr>\n      <th>507</th>\n      <td>1</td>\n      <td>23</td>\n      <td>6</td>\n      <td>JFK</td>\n      <td>SEA</td>\n      <td>1615</td>\n      <td>NaN</td>\n    </tr>\n    <tr>\n      <th>511</th>\n      <td>1</td>\n      <td>23</td>\n      <td>6</td>\n      <td>ATL</td>\n      <td>JFK</td>\n      <td>1515</td>\n      <td>NaN</td>\n    </tr>\n    <tr>\n      <th>517</th>\n      <td>1</td>\n      <td>23</td>\n      <td>6</td>\n      <td>SEA</td>\n      <td>JFK</td>\n      <td>1150</td>\n      <td>NaN</td>\n    </tr>\n    <tr>\n      <th>518</th>\n      <td>1</td>\n      <td>23</td>\n      <td>6</td>\n      <td>SEA</td>\n      <td>JFK</td>\n      <td>2250</td>\n      <td>NaN</td>\n    </tr>\n    <tr>\n      <th>521</th>\n      <td>1</td>\n      <td>23</td>\n      <td>6</td>\n      <td>ATL</td>\n      <td>JFK</td>\n      <td>1745</td>\n      <td>NaN</td>\n    </tr>\n    <tr>\n      <th>523</th>\n      <td>1</td>\n      <td>23</td>\n      <td>6</td>\n      <td>JFK</td>\n      <td>ATL</td>\n      <td>1930</td>\n      <td>NaN</td>\n    </tr>\n    <tr>\n      <th>526</th>\n      <td>1</td>\n      <td>23</td>\n      <td>6</td>\n      <td>ATL</td>\n      <td>JFK</td>\n      <td>810</td>\n      <td>NaN</td>\n    </tr>\n    <tr>\n      <th>529</th>\n      <td>1</td>\n      <td>24</td>\n      <td>7</td>\n      <td>ATL</td>\n      <td>JFK</td>\n      <td>810</td>\n      <td>NaN</td>\n    </tr>\n    <tr>\n      <th>541</th>\n      <td>1</td>\n      <td>22</td>\n      <td>5</td>\n      <td>ATL</td>\n      <td>JFK</td>\n      <td>2050</td>\n      <td>NaN</td>\n    </tr>\n    <tr>\n      <th>545</th>\n      <td>1</td>\n      <td>22</td>\n      <td>5</td>\n      <td>DTW</td>\n      <td>JFK</td>\n      <td>2000</td>\n      <td>NaN</td>\n    </tr>\n    <tr>\n      <th>553</th>\n      <td>1</td>\n      <td>23</td>\n      <td>6</td>\n      <td>SEA</td>\n      <td>JFK</td>\n      <td>700</td>\n      <td>NaN</td>\n    </tr>\n    <tr>\n      <th>556</th>\n      <td>1</td>\n      <td>23</td>\n      <td>6</td>\n      <td>JFK</td>\n      <td>DTW</td>\n      <td>1900</td>\n      <td>NaN</td>\n    </tr>\n    <tr>\n      <th>559</th>\n      <td>1</td>\n      <td>24</td>\n      <td>7</td>\n      <td>JFK</td>\n      <td>ATL</td>\n      <td>1715</td>\n      <td>NaN</td>\n    </tr>\n    <tr>\n      <th>560</th>\n      <td>1</td>\n      <td>24</td>\n      <td>7</td>\n      <td>JFK</td>\n      <td>MSP</td>\n      <td>1129</td>\n      <td>NaN</td>\n    </tr>\n    <tr>\n      <th>561</th>\n      <td>1</td>\n      <td>24</td>\n      <td>7</td>\n      <td>JFK</td>\n      <td>ATL</td>\n      <td>820</td>\n      <td>NaN</td>\n    </tr>\n    <tr>\n      <th>...</th>\n      <td>...</td>\n      <td>...</td>\n      <td>...</td>\n      <td>...</td>\n      <td>...</td>\n      <td>...</td>\n      <td>...</td>\n    </tr>\n    <tr>\n      <th>6823</th>\n      <td>8</td>\n      <td>11</td>\n      <td>4</td>\n      <td>ATL</td>\n      <td>DTW</td>\n      <td>710</td>\n      <td>NaN</td>\n    </tr>\n    <tr>\n      <th>6863</th>\n      <td>8</td>\n      <td>14</td>\n      <td>7</td>\n      <td>ATL</td>\n      <td>JFK</td>\n      <td>2115</td>\n      <td>NaN</td>\n    </tr>\n    <tr>\n      <th>6913</th>\n      <td>8</td>\n      <td>14</td>\n      <td>7</td>\n      <td>SEA</td>\n      <td>JFK</td>\n      <td>1320</td>\n      <td>NaN</td>\n    </tr>\n    <tr>\n      <th>6942</th>\n      <td>8</td>\n      <td>14</td>\n      <td>7</td>\n      <td>JFK</td>\n      <td>ATL</td>\n      <td>1744</td>\n      <td>NaN</td>\n    </tr>\n    <tr>\n      <th>6966</th>\n      <td>8</td>\n      <td>14</td>\n      <td>7</td>\n      <td>JFK</td>\n      <td>MSP</td>\n      <td>1445</td>\n      <td>NaN</td>\n    </tr>\n    <tr>\n      <th>6975</th>\n      <td>8</td>\n      <td>15</td>\n      <td>1</td>\n      <td>MSP</td>\n      <td>JFK</td>\n      <td>1010</td>\n      <td>NaN</td>\n    </tr>\n    <tr>\n      <th>7112</th>\n      <td>8</td>\n      <td>21</td>\n      <td>7</td>\n      <td>DTW</td>\n      <td>SEA</td>\n      <td>1155</td>\n      <td>NaN</td>\n    </tr>\n    <tr>\n      <th>7165</th>\n      <td>8</td>\n      <td>21</td>\n      <td>7</td>\n      <td>ATL</td>\n      <td>SEA</td>\n      <td>1414</td>\n      <td>NaN</td>\n    </tr>\n    <tr>\n      <th>7539</th>\n      <td>9</td>\n      <td>1</td>\n      <td>4</td>\n      <td>ATL</td>\n      <td>JFK</td>\n      <td>1515</td>\n      <td>NaN</td>\n    </tr>\n    <tr>\n      <th>7540</th>\n      <td>9</td>\n      <td>1</td>\n      <td>4</td>\n      <td>JFK</td>\n      <td>ATL</td>\n      <td>1520</td>\n      <td>NaN</td>\n    </tr>\n    <tr>\n      <th>7550</th>\n      <td>9</td>\n      <td>1</td>\n      <td>4</td>\n      <td>SEA</td>\n      <td>ATL</td>\n      <td>1215</td>\n      <td>NaN</td>\n    </tr>\n    <tr>\n      <th>8056</th>\n      <td>9</td>\n      <td>18</td>\n      <td>7</td>\n      <td>JFK</td>\n      <td>ATL</td>\n      <td>1720</td>\n      <td>NaN</td>\n    </tr>\n    <tr>\n      <th>8123</th>\n      <td>9</td>\n      <td>21</td>\n      <td>3</td>\n      <td>JFK</td>\n      <td>MSP</td>\n      <td>1840</td>\n      <td>NaN</td>\n    </tr>\n    <tr>\n      <th>8127</th>\n      <td>9</td>\n      <td>21</td>\n      <td>3</td>\n      <td>JFK</td>\n      <td>MSP</td>\n      <td>1555</td>\n      <td>NaN</td>\n    </tr>\n    <tr>\n      <th>8136</th>\n      <td>9</td>\n      <td>21</td>\n      <td>3</td>\n      <td>ATL</td>\n      <td>MSP</td>\n      <td>1945</td>\n      <td>NaN</td>\n    </tr>\n    <tr>\n      <th>8139</th>\n      <td>9</td>\n      <td>21</td>\n      <td>3</td>\n      <td>DTW</td>\n      <td>MSP</td>\n      <td>1958</td>\n      <td>NaN</td>\n    </tr>\n    <tr>\n      <th>8233</th>\n      <td>9</td>\n      <td>21</td>\n      <td>3</td>\n      <td>SEA</td>\n      <td>MSP</td>\n      <td>1516</td>\n      <td>NaN</td>\n    </tr>\n    <tr>\n      <th>8443</th>\n      <td>9</td>\n      <td>30</td>\n      <td>5</td>\n      <td>MSP</td>\n      <td>ATL</td>\n      <td>1010</td>\n      <td>NaN</td>\n    </tr>\n    <tr>\n      <th>9250</th>\n      <td>10</td>\n      <td>31</td>\n      <td>1</td>\n      <td>JFK</td>\n      <td>MSP</td>\n      <td>810</td>\n      <td>NaN</td>\n    </tr>\n    <tr>\n      <th>9807</th>\n      <td>11</td>\n      <td>18</td>\n      <td>5</td>\n      <td>SEA</td>\n      <td>MSP</td>\n      <td>1133</td>\n      <td>NaN</td>\n    </tr>\n    <tr>\n      <th>9836</th>\n      <td>11</td>\n      <td>18</td>\n      <td>5</td>\n      <td>DTW</td>\n      <td>MSP</td>\n      <td>1555</td>\n      <td>NaN</td>\n    </tr>\n    <tr>\n      <th>10181</th>\n      <td>11</td>\n      <td>30</td>\n      <td>3</td>\n      <td>MSP</td>\n      <td>ATL</td>\n      <td>1114</td>\n      <td>NaN</td>\n    </tr>\n    <tr>\n      <th>10557</th>\n      <td>12</td>\n      <td>8</td>\n      <td>4</td>\n      <td>ATL</td>\n      <td>DTW</td>\n      <td>900</td>\n      <td>NaN</td>\n    </tr>\n    <tr>\n      <th>10618</th>\n      <td>12</td>\n      <td>11</td>\n      <td>7</td>\n      <td>MSP</td>\n      <td>DTW</td>\n      <td>1155</td>\n      <td>NaN</td>\n    </tr>\n    <tr>\n      <th>10619</th>\n      <td>12</td>\n      <td>11</td>\n      <td>7</td>\n      <td>DTW</td>\n      <td>SEA</td>\n      <td>1545</td>\n      <td>NaN</td>\n    </tr>\n    <tr>\n      <th>10625</th>\n      <td>12</td>\n      <td>12</td>\n      <td>1</td>\n      <td>SEA</td>\n      <td>DTW</td>\n      <td>935</td>\n      <td>NaN</td>\n    </tr>\n    <tr>\n      <th>10746</th>\n      <td>12</td>\n      <td>16</td>\n      <td>5</td>\n      <td>JFK</td>\n      <td>MSP</td>\n      <td>1600</td>\n      <td>NaN</td>\n    </tr>\n    <tr>\n      <th>10756</th>\n      <td>12</td>\n      <td>17</td>\n      <td>6</td>\n      <td>JFK</td>\n      <td>ATL</td>\n      <td>1925</td>\n      <td>NaN</td>\n    </tr>\n    <tr>\n      <th>10785</th>\n      <td>12</td>\n      <td>18</td>\n      <td>7</td>\n      <td>ATL</td>\n      <td>JFK</td>\n      <td>1520</td>\n      <td>NaN</td>\n    </tr>\n    <tr>\n      <th>10786</th>\n      <td>12</td>\n      <td>18</td>\n      <td>7</td>\n      <td>JFK</td>\n      <td>ATL</td>\n      <td>1529</td>\n      <td>NaN</td>\n    </tr>\n  </tbody>\n</table>\n<p>188 rows × 7 columns</p>\n</div>",
            "text/plain": "       MONTH  DAY_OF_MONTH  DAY_OF_WEEK ORIGIN DEST  CRS_DEP_TIME  ARR_DEL15\n177        1             9            6    MSP  SEA           701        NaN\n179        1            10            7    MSP  DTW          1348        NaN\n184        1            10            7    MSP  DTW           625        NaN\n210        1            10            7    DTW  MSP          1200        NaN\n478        1            22            5    SEA  JFK          2305        NaN\n481        1            22            5    ATL  JFK          1745        NaN\n491        1            22            5    MSP  JFK          1755        NaN\n499        1            23            6    JFK  ATL          1325        NaN\n500        1            23            6    JFK  ATL          1540        NaN\n501        1            23            6    JFK  SEA           740        NaN\n502        1            23            6    JFK  ATL           610        NaN\n503        1            23            6    JFK  ATL           805        NaN\n504        1            23            6    JFK  ATL          1715        NaN\n505        1            23            6    JFK  SEA          1825        NaN\n506        1            23            6    ATL  JFK          1205        NaN\n507        1            23            6    JFK  SEA          1615        NaN\n511        1            23            6    ATL  JFK          1515        NaN\n517        1            23            6    SEA  JFK          1150        NaN\n518        1            23            6    SEA  JFK          2250        NaN\n521        1            23            6    ATL  JFK          1745        NaN\n523        1            23            6    JFK  ATL          1930        NaN\n526        1            23            6    ATL  JFK           810        NaN\n529        1            24            7    ATL  JFK           810        NaN\n541        1            22            5    ATL  JFK          2050        NaN\n545        1            22            5    DTW  JFK          2000        NaN\n553        1            23            6    SEA  JFK           700        NaN\n556        1            23            6    JFK  DTW          1900        NaN\n559        1            24            7    JFK  ATL          1715        NaN\n560        1            24            7    JFK  MSP          1129        NaN\n561        1            24            7    JFK  ATL           820        NaN\n...      ...           ...          ...    ...  ...           ...        ...\n6823       8            11            4    ATL  DTW           710        NaN\n6863       8            14            7    ATL  JFK          2115        NaN\n6913       8            14            7    SEA  JFK          1320        NaN\n6942       8            14            7    JFK  ATL          1744        NaN\n6966       8            14            7    JFK  MSP          1445        NaN\n6975       8            15            1    MSP  JFK          1010        NaN\n7112       8            21            7    DTW  SEA          1155        NaN\n7165       8            21            7    ATL  SEA          1414        NaN\n7539       9             1            4    ATL  JFK          1515        NaN\n7540       9             1            4    JFK  ATL          1520        NaN\n7550       9             1            4    SEA  ATL          1215        NaN\n8056       9            18            7    JFK  ATL          1720        NaN\n8123       9            21            3    JFK  MSP          1840        NaN\n8127       9            21            3    JFK  MSP          1555        NaN\n8136       9            21            3    ATL  MSP          1945        NaN\n8139       9            21            3    DTW  MSP          1958        NaN\n8233       9            21            3    SEA  MSP          1516        NaN\n8443       9            30            5    MSP  ATL          1010        NaN\n9250      10            31            1    JFK  MSP           810        NaN\n9807      11            18            5    SEA  MSP          1133        NaN\n9836      11            18            5    DTW  MSP          1555        NaN\n10181     11            30            3    MSP  ATL          1114        NaN\n10557     12             8            4    ATL  DTW           900        NaN\n10618     12            11            7    MSP  DTW          1155        NaN\n10619     12            11            7    DTW  SEA          1545        NaN\n10625     12            12            1    SEA  DTW           935        NaN\n10746     12            16            5    JFK  MSP          1600        NaN\n10756     12            17            6    JFK  ATL          1925        NaN\n10785     12            18            7    ATL  JFK          1520        NaN\n10786     12            18            7    JFK  ATL          1529        NaN\n\n[188 rows x 7 columns]"
          },
          "metadata": {}
        }
      ]
    },
    {
      "metadata": {
        "trusted": true
      },
      "cell_type": "code",
      "source": "df = df.fillna({'ARR_DEL15': 1})\n#fill the empty(Nan) slots of ARR_DEL15 with 1",
      "execution_count": 10,
      "outputs": []
    },
    {
      "metadata": {
        "trusted": true
      },
      "cell_type": "code",
      "source": "df[df.isnull().values.any(axis=1)]\n#no empty values",
      "execution_count": 11,
      "outputs": [
        {
          "output_type": "execute_result",
          "execution_count": 11,
          "data": {
            "text/html": "<div>\n<style scoped>\n    .dataframe tbody tr th:only-of-type {\n        vertical-align: middle;\n    }\n\n    .dataframe tbody tr th {\n        vertical-align: top;\n    }\n\n    .dataframe thead th {\n        text-align: right;\n    }\n</style>\n<table border=\"1\" class=\"dataframe\">\n  <thead>\n    <tr style=\"text-align: right;\">\n      <th></th>\n      <th>MONTH</th>\n      <th>DAY_OF_MONTH</th>\n      <th>DAY_OF_WEEK</th>\n      <th>ORIGIN</th>\n      <th>DEST</th>\n      <th>CRS_DEP_TIME</th>\n      <th>ARR_DEL15</th>\n    </tr>\n  </thead>\n  <tbody>\n  </tbody>\n</table>\n</div>",
            "text/plain": "Empty DataFrame\nColumns: [MONTH, DAY_OF_MONTH, DAY_OF_WEEK, ORIGIN, DEST, CRS_DEP_TIME, ARR_DEL15]\nIndex: []"
          },
          "metadata": {}
        }
      ]
    },
    {
      "metadata": {},
      "cell_type": "markdown",
      "source": "The CRS_DEP_TIME column of the dataset represents scheduled departure times. The granularity of the numbers in this column — it contains more than 500 unique values — could have a negative impact on accuracy in a machine-learning model. This can be resolved using a technique called BINING or QUANTIZATION.divide each number in this column by 100 and rounded down to the nearest integer? 1030 would become 10, 1925 would become 19, and so on, and you would be left with a maximum of 24 discrete values in this column. Intuitively, it makes sense, because it probably doesn't matter much whether a flight leaves at 10:30 a.m. or 10:40 a.m. It matters a great deal whether it leaves at 10:30 a.m. or 5:30 p.m."
    },
    {
      "metadata": {},
      "cell_type": "markdown",
      "source": "In addition, the dataset's ORIGIN and DEST columns contain airport codes that represent categorical machine-learning values. These columns need to be converted into discrete columns containing indicator variables, sometimes known as \"dummy\" variables. In other words, the ORIGIN column, which contains five airport codes, needs to be converted into five columns, one per airport, with each column containing 1s and 0s indicating whether a flight originated at the airport that the column represents. The DEST column needs to be handled in a similar manner."
    },
    {
      "metadata": {
        "trusted": true
      },
      "cell_type": "code",
      "source": "df.head()\n",
      "execution_count": 12,
      "outputs": [
        {
          "output_type": "execute_result",
          "execution_count": 12,
          "data": {
            "text/html": "<div>\n<style scoped>\n    .dataframe tbody tr th:only-of-type {\n        vertical-align: middle;\n    }\n\n    .dataframe tbody tr th {\n        vertical-align: top;\n    }\n\n    .dataframe thead th {\n        text-align: right;\n    }\n</style>\n<table border=\"1\" class=\"dataframe\">\n  <thead>\n    <tr style=\"text-align: right;\">\n      <th></th>\n      <th>MONTH</th>\n      <th>DAY_OF_MONTH</th>\n      <th>DAY_OF_WEEK</th>\n      <th>ORIGIN</th>\n      <th>DEST</th>\n      <th>CRS_DEP_TIME</th>\n      <th>ARR_DEL15</th>\n    </tr>\n  </thead>\n  <tbody>\n    <tr>\n      <th>0</th>\n      <td>1</td>\n      <td>1</td>\n      <td>5</td>\n      <td>ATL</td>\n      <td>SEA</td>\n      <td>1905</td>\n      <td>0.0</td>\n    </tr>\n    <tr>\n      <th>1</th>\n      <td>1</td>\n      <td>1</td>\n      <td>5</td>\n      <td>DTW</td>\n      <td>MSP</td>\n      <td>1345</td>\n      <td>0.0</td>\n    </tr>\n    <tr>\n      <th>2</th>\n      <td>1</td>\n      <td>1</td>\n      <td>5</td>\n      <td>ATL</td>\n      <td>SEA</td>\n      <td>940</td>\n      <td>0.0</td>\n    </tr>\n    <tr>\n      <th>3</th>\n      <td>1</td>\n      <td>1</td>\n      <td>5</td>\n      <td>SEA</td>\n      <td>MSP</td>\n      <td>819</td>\n      <td>0.0</td>\n    </tr>\n    <tr>\n      <th>4</th>\n      <td>1</td>\n      <td>1</td>\n      <td>5</td>\n      <td>SEA</td>\n      <td>DTW</td>\n      <td>2300</td>\n      <td>0.0</td>\n    </tr>\n  </tbody>\n</table>\n</div>",
            "text/plain": "   MONTH  DAY_OF_MONTH  DAY_OF_WEEK ORIGIN DEST  CRS_DEP_TIME  ARR_DEL15\n0      1             1            5    ATL  SEA          1905        0.0\n1      1             1            5    DTW  MSP          1345        0.0\n2      1             1            5    ATL  SEA           940        0.0\n3      1             1            5    SEA  MSP           819        0.0\n4      1             1            5    SEA  DTW          2300        0.0"
          },
          "metadata": {}
        }
      ]
    },
    {
      "metadata": {
        "trusted": true
      },
      "cell_type": "code",
      "source": "#QUANTIZATION\nimport math\n\nfor index, row in df.iterrows():\n    df.loc[index, 'CRS_DEP_TIME'] = math.floor(row['CRS_DEP_TIME'] / 100)\ndf.head()\n",
      "execution_count": 13,
      "outputs": [
        {
          "output_type": "execute_result",
          "execution_count": 13,
          "data": {
            "text/html": "<div>\n<style scoped>\n    .dataframe tbody tr th:only-of-type {\n        vertical-align: middle;\n    }\n\n    .dataframe tbody tr th {\n        vertical-align: top;\n    }\n\n    .dataframe thead th {\n        text-align: right;\n    }\n</style>\n<table border=\"1\" class=\"dataframe\">\n  <thead>\n    <tr style=\"text-align: right;\">\n      <th></th>\n      <th>MONTH</th>\n      <th>DAY_OF_MONTH</th>\n      <th>DAY_OF_WEEK</th>\n      <th>ORIGIN</th>\n      <th>DEST</th>\n      <th>CRS_DEP_TIME</th>\n      <th>ARR_DEL15</th>\n    </tr>\n  </thead>\n  <tbody>\n    <tr>\n      <th>0</th>\n      <td>1</td>\n      <td>1</td>\n      <td>5</td>\n      <td>ATL</td>\n      <td>SEA</td>\n      <td>19</td>\n      <td>0.0</td>\n    </tr>\n    <tr>\n      <th>1</th>\n      <td>1</td>\n      <td>1</td>\n      <td>5</td>\n      <td>DTW</td>\n      <td>MSP</td>\n      <td>13</td>\n      <td>0.0</td>\n    </tr>\n    <tr>\n      <th>2</th>\n      <td>1</td>\n      <td>1</td>\n      <td>5</td>\n      <td>ATL</td>\n      <td>SEA</td>\n      <td>9</td>\n      <td>0.0</td>\n    </tr>\n    <tr>\n      <th>3</th>\n      <td>1</td>\n      <td>1</td>\n      <td>5</td>\n      <td>SEA</td>\n      <td>MSP</td>\n      <td>8</td>\n      <td>0.0</td>\n    </tr>\n    <tr>\n      <th>4</th>\n      <td>1</td>\n      <td>1</td>\n      <td>5</td>\n      <td>SEA</td>\n      <td>DTW</td>\n      <td>23</td>\n      <td>0.0</td>\n    </tr>\n  </tbody>\n</table>\n</div>",
            "text/plain": "   MONTH  DAY_OF_MONTH  DAY_OF_WEEK ORIGIN DEST  CRS_DEP_TIME  ARR_DEL15\n0      1             1            5    ATL  SEA            19        0.0\n1      1             1            5    DTW  MSP            13        0.0\n2      1             1            5    ATL  SEA             9        0.0\n3      1             1            5    SEA  MSP             8        0.0\n4      1             1            5    SEA  DTW            23        0.0"
          },
          "metadata": {}
        }
      ]
    },
    {
      "metadata": {
        "trusted": true
      },
      "cell_type": "code",
      "source": "#get dummies columns instead of origin and dest\ndf = pd.get_dummies(df, columns=['ORIGIN', 'DEST'])\ndf.head()",
      "execution_count": 14,
      "outputs": [
        {
          "output_type": "execute_result",
          "execution_count": 14,
          "data": {
            "text/html": "<div>\n<style scoped>\n    .dataframe tbody tr th:only-of-type {\n        vertical-align: middle;\n    }\n\n    .dataframe tbody tr th {\n        vertical-align: top;\n    }\n\n    .dataframe thead th {\n        text-align: right;\n    }\n</style>\n<table border=\"1\" class=\"dataframe\">\n  <thead>\n    <tr style=\"text-align: right;\">\n      <th></th>\n      <th>MONTH</th>\n      <th>DAY_OF_MONTH</th>\n      <th>DAY_OF_WEEK</th>\n      <th>CRS_DEP_TIME</th>\n      <th>ARR_DEL15</th>\n      <th>ORIGIN_ATL</th>\n      <th>ORIGIN_DTW</th>\n      <th>ORIGIN_JFK</th>\n      <th>ORIGIN_MSP</th>\n      <th>ORIGIN_SEA</th>\n      <th>DEST_ATL</th>\n      <th>DEST_DTW</th>\n      <th>DEST_JFK</th>\n      <th>DEST_MSP</th>\n      <th>DEST_SEA</th>\n    </tr>\n  </thead>\n  <tbody>\n    <tr>\n      <th>0</th>\n      <td>1</td>\n      <td>1</td>\n      <td>5</td>\n      <td>19</td>\n      <td>0.0</td>\n      <td>1</td>\n      <td>0</td>\n      <td>0</td>\n      <td>0</td>\n      <td>0</td>\n      <td>0</td>\n      <td>0</td>\n      <td>0</td>\n      <td>0</td>\n      <td>1</td>\n    </tr>\n    <tr>\n      <th>1</th>\n      <td>1</td>\n      <td>1</td>\n      <td>5</td>\n      <td>13</td>\n      <td>0.0</td>\n      <td>0</td>\n      <td>1</td>\n      <td>0</td>\n      <td>0</td>\n      <td>0</td>\n      <td>0</td>\n      <td>0</td>\n      <td>0</td>\n      <td>1</td>\n      <td>0</td>\n    </tr>\n    <tr>\n      <th>2</th>\n      <td>1</td>\n      <td>1</td>\n      <td>5</td>\n      <td>9</td>\n      <td>0.0</td>\n      <td>1</td>\n      <td>0</td>\n      <td>0</td>\n      <td>0</td>\n      <td>0</td>\n      <td>0</td>\n      <td>0</td>\n      <td>0</td>\n      <td>0</td>\n      <td>1</td>\n    </tr>\n    <tr>\n      <th>3</th>\n      <td>1</td>\n      <td>1</td>\n      <td>5</td>\n      <td>8</td>\n      <td>0.0</td>\n      <td>0</td>\n      <td>0</td>\n      <td>0</td>\n      <td>0</td>\n      <td>1</td>\n      <td>0</td>\n      <td>0</td>\n      <td>0</td>\n      <td>1</td>\n      <td>0</td>\n    </tr>\n    <tr>\n      <th>4</th>\n      <td>1</td>\n      <td>1</td>\n      <td>5</td>\n      <td>23</td>\n      <td>0.0</td>\n      <td>0</td>\n      <td>0</td>\n      <td>0</td>\n      <td>0</td>\n      <td>1</td>\n      <td>0</td>\n      <td>1</td>\n      <td>0</td>\n      <td>0</td>\n      <td>0</td>\n    </tr>\n  </tbody>\n</table>\n</div>",
            "text/plain": "   MONTH  DAY_OF_MONTH  DAY_OF_WEEK  CRS_DEP_TIME  ARR_DEL15  ORIGIN_ATL  \\\n0      1             1            5            19        0.0           1   \n1      1             1            5            13        0.0           0   \n2      1             1            5             9        0.0           1   \n3      1             1            5             8        0.0           0   \n4      1             1            5            23        0.0           0   \n\n   ORIGIN_DTW  ORIGIN_JFK  ORIGIN_MSP  ORIGIN_SEA  DEST_ATL  DEST_DTW  \\\n0           0           0           0           0         0         0   \n1           1           0           0           0         0         0   \n2           0           0           0           0         0         0   \n3           0           0           0           1         0         0   \n4           0           0           0           1         0         1   \n\n   DEST_JFK  DEST_MSP  DEST_SEA  \n0         0         0         1  \n1         0         1         0  \n2         0         0         1  \n3         0         1         0  \n4         0         0         0  "
          },
          "metadata": {}
        }
      ]
    },
    {
      "metadata": {},
      "cell_type": "markdown",
      "source": "DATA FILTERING COMPLETE"
    },
    {
      "metadata": {
        "trusted": true
      },
      "cell_type": "code",
      "source": "#80 20 split in dataframe training and testing\nfrom sklearn.model_selection import train_test_split\ntrain_x, test_x, train_y, test_y = train_test_split(df.drop('ARR_DEL15', axis=1), df['ARR_DEL15'], test_size=0.2, random_state=42)",
      "execution_count": 15,
      "outputs": []
    },
    {
      "metadata": {
        "trusted": true
      },
      "cell_type": "code",
      "source": "train_test_split?",
      "execution_count": 16,
      "outputs": []
    },
    {
      "metadata": {
        "trusted": true
      },
      "cell_type": "code",
      "source": "train_x.shape",
      "execution_count": 17,
      "outputs": [
        {
          "output_type": "execute_result",
          "execution_count": 17,
          "data": {
            "text/plain": "(8984, 14)"
          },
          "metadata": {}
        }
      ]
    },
    {
      "metadata": {
        "trusted": true
      },
      "cell_type": "code",
      "source": "test_x.shape",
      "execution_count": 18,
      "outputs": [
        {
          "output_type": "execute_result",
          "execution_count": 18,
          "data": {
            "text/plain": "(2247, 14)"
          },
          "metadata": {}
        }
      ]
    },
    {
      "metadata": {
        "trusted": true
      },
      "cell_type": "code",
      "source": "train_y.shape",
      "execution_count": 19,
      "outputs": [
        {
          "output_type": "execute_result",
          "execution_count": 19,
          "data": {
            "text/plain": "(8984,)"
          },
          "metadata": {}
        }
      ]
    },
    {
      "metadata": {
        "trusted": true
      },
      "cell_type": "code",
      "source": "test_y.shape",
      "execution_count": 20,
      "outputs": [
        {
          "output_type": "execute_result",
          "execution_count": 20,
          "data": {
            "text/plain": "(2247,)"
          },
          "metadata": {}
        }
      ]
    },
    {
      "metadata": {
        "trusted": true
      },
      "cell_type": "code",
      "source": "#importing random classifier model for training(multiple inputs single output)\nfrom sklearn.ensemble import RandomForestClassifier\n\nmodel = RandomForestClassifier(random_state=13)\nmodel.fit(train_x, train_y) #train the model",
      "execution_count": 21,
      "outputs": [
        {
          "output_type": "stream",
          "text": "/home/nbuser/anaconda3_501/lib/python3.6/site-packages/sklearn/ensemble/forest.py:246: FutureWarning: The default value of n_estimators will change from 10 in version 0.20 to 100 in 0.22.\n  \"10 in version 0.20 to 100 in 0.22.\", FutureWarning)\n",
          "name": "stderr"
        },
        {
          "output_type": "execute_result",
          "execution_count": 21,
          "data": {
            "text/plain": "RandomForestClassifier(bootstrap=True, class_weight=None, criterion='gini',\n            max_depth=None, max_features='auto', max_leaf_nodes=None,\n            min_impurity_decrease=0.0, min_impurity_split=None,\n            min_samples_leaf=1, min_samples_split=2,\n            min_weight_fraction_leaf=0.0, n_estimators=10, n_jobs=None,\n            oob_score=False, random_state=13, verbose=0, warm_start=False)"
          },
          "metadata": {}
        }
      ]
    },
    {
      "metadata": {
        "trusted": true
      },
      "cell_type": "code",
      "source": "#make predictions\npredicted = model.predict(test_x)\n#accuracy(not correct as mean accuracy)\nmodel.score(test_x, test_y)",
      "execution_count": 22,
      "outputs": [
        {
          "output_type": "execute_result",
          "execution_count": 22,
          "data": {
            "text/plain": "0.8602581219403649"
          },
          "metadata": {}
        }
      ]
    },
    {
      "metadata": {},
      "cell_type": "markdown",
      "source": "One of the best overall measures for a binary classification model is Area Under Receiver Operating Characteristic Curve (sometimes referred to as \"ROC AUC\"), which essentially quantifies how often the model will make a correct prediction regardless of the outcome.\nBinary classification(OUTPUT IS EITHER 0 OR 1)"
    },
    {
      "metadata": {
        "trusted": true
      },
      "cell_type": "code",
      "source": "#prediction probabilities for the test set\nfrom sklearn.metrics import roc_auc_score\nprobabilities = model.predict_proba(test_x)",
      "execution_count": 23,
      "outputs": []
    },
    {
      "metadata": {
        "trusted": true
      },
      "cell_type": "code",
      "source": "probabilities",
      "execution_count": 24,
      "outputs": [
        {
          "output_type": "execute_result",
          "execution_count": 24,
          "data": {
            "text/plain": "array([[0.8, 0.2],\n       [0.9, 0.1],\n       [1. , 0. ],\n       ...,\n       [0.9, 0.1],\n       [0.7, 0.3],\n       [1. , 0. ]])"
          },
          "metadata": {}
        }
      ]
    },
    {
      "metadata": {
        "trusted": true
      },
      "cell_type": "code",
      "source": "#[0.8,0.2] 80% chance that flight will arrive on time\n# 20% chance that the flight will be delayed for first input",
      "execution_count": 25,
      "outputs": []
    },
    {
      "metadata": {
        "trusted": true
      },
      "cell_type": "code",
      "source": "roc_auc_score(test_y, probabilities[:, 1])",
      "execution_count": 26,
      "outputs": [
        {
          "output_type": "execute_result",
          "execution_count": 26,
          "data": {
            "text/plain": "0.6743824904998539"
          },
          "metadata": {}
        }
      ]
    },
    {
      "metadata": {
        "trusted": true
      },
      "cell_type": "code",
      "source": "#67% accuracy ",
      "execution_count": 27,
      "outputs": []
    },
    {
      "metadata": {},
      "cell_type": "markdown",
      "source": "The output from the score method reflects how many of the items in the test set the model predicted correctly. This score is skewed by the fact that the dataset the model was trained and tested with contains many more rows representing on-time arrivals than rows representing late arrivals. Because of this imbalance in the data, you're more likely to be correct if you predict that a flight will be on time than if you predict that a flight will be late."
    },
    {
      "metadata": {},
      "cell_type": "markdown",
      "source": "ROC AUC takes this into account and provides a more accurate indication of how likely it is that a prediction of on-time or late will be correct."
    },
    {
      "metadata": {
        "trusted": true
      },
      "cell_type": "code",
      "source": "#generating confusion matrix\n#false positives, false negatives, true positives, and true negatives",
      "execution_count": 28,
      "outputs": []
    },
    {
      "metadata": {
        "trusted": true
      },
      "cell_type": "code",
      "source": "from sklearn.metrics import confusion_matrix\nconfusion_matrix(test_y, predicted)",
      "execution_count": 29,
      "outputs": [
        {
          "output_type": "execute_result",
          "execution_count": 29,
          "data": {
            "text/plain": "array([[1882,   54],\n       [ 260,   51]])"
          },
          "metadata": {}
        }
      ]
    },
    {
      "metadata": {},
      "cell_type": "markdown",
      "source": "\nIMPORTANT\n#[true positive, false positive]     (positive means on time)\n#[false negatives, true negatives]  (negative means delayed)\n\nWHAT WE WANT IN A CONFUSION MATRIX\nlarge numbers in the upper-left and lower-right corners, and small numbers (preferably zeros) in the upper-right and lower-left corners."
    },
    {
      "metadata": {},
      "cell_type": "markdown",
      "source": "MODEL IS BIASED TOWARDS PREDICTING THE FLIGHT AS ON TIME(FROM CONFUSTION MATRIX)"
    },
    {
      "metadata": {},
      "cell_type": "markdown",
      "source": "Other measures of accuracy for a classification model include precision and recall. Suppose the model was presented with three on-time arrivals and three delayed arrivals, and that it correctly predicted two of the on-time arrivals, but incorrectly predicted that two of the delayed arrivals would be on time. In this case, the precision would be 50% (two of the four flights it classified as being on time actually were on time), while its recall would be 67% (it correctly identified two of the three on-time arrivals). "
    },
    {
      "metadata": {
        "trusted": true
      },
      "cell_type": "code",
      "source": "#precision score\nfrom sklearn.metrics import precision_score\n\ntrain_predictions = model.predict(train_x)\nprecision_score(train_y, train_predictions)",
      "execution_count": 32,
      "outputs": [
        {
          "output_type": "execute_result",
          "execution_count": 32,
          "data": {
            "text/plain": "0.9972375690607734"
          },
          "metadata": {}
        }
      ]
    },
    {
      "metadata": {
        "trusted": true
      },
      "cell_type": "code",
      "source": "#recall score\nfrom sklearn.metrics import recall_score\n\nrecall_score(train_y, train_predictions)",
      "execution_count": 33,
      "outputs": [
        {
          "output_type": "execute_result",
          "execution_count": 33,
          "data": {
            "text/plain": "0.8650159744408946"
          },
          "metadata": {}
        }
      ]
    },
    {
      "metadata": {
        "trusted": true
      },
      "cell_type": "code",
      "source": "#visualizing data\n%matplotlib inline\nimport matplotlib.pyplot as plt\nimport seaborn as sns\n\nsns.set()",
      "execution_count": 34,
      "outputs": []
    },
    {
      "metadata": {
        "trusted": true
      },
      "cell_type": "code",
      "source": "#ploting ROC curve\nfrom sklearn.metrics import roc_curve\n\nfpr, tpr, _ = roc_curve(test_y, probabilities[:, 1])\nplt.plot(fpr, tpr)\nplt.plot([0, 1], [0, 1], color='grey', lw=1, linestyle='--')\nplt.xlabel('False Positive Rate')\nplt.ylabel('True Positive Rate')",
      "execution_count": 35,
      "outputs": [
        {
          "output_type": "execute_result",
          "execution_count": 35,
          "data": {
            "text/plain": "Text(0, 0.5, 'True Positive Rate')"
          },
          "metadata": {}
        },
        {
          "output_type": "display_data",
          "data": {
            "image/png": "[encoded data removed]",
            "text/plain": "<Figure size 432x288 with 1 Axes>"
          },
          "metadata": {
            "needs_background": "light"
          }
        }
      ]
    },
    {
      "metadata": {
        "trusted": true
      },
      "cell_type": "code",
      "source": "#FILE PREDICTOR FUNCTION\ndef predict_delay(departure_date_time, origin, destination):\n    from datetime import datetime\n\n    try:\n        departure_date_time_parsed = datetime.strptime(departure_date_time, '%d/%m/%Y %H:%M:%S')\n    except ValueError as e:\n        return 'Error parsing date/time - {}'.format(e)\n\n    month = departure_date_time_parsed.month\n    day = departure_date_time_parsed.day\n    day_of_week = departure_date_time_parsed.isoweekday()\n    hour = departure_date_time_parsed.hour\n\n    origin = origin.upper()\n    destination = destination.upper()\n\n    input = [{'MONTH': month,\n              'DAY': day,\n              'DAY_OF_WEEK': day_of_week,\n              'CRS_DEP_TIME': hour,\n              'ORIGIN_ATL': 1 if origin == 'ATL' else 0,\n              'ORIGIN_DTW': 1 if origin == 'DTW' else 0,\n              'ORIGIN_JFK': 1 if origin == 'JFK' else 0,\n              'ORIGIN_MSP': 1 if origin == 'MSP' else 0,\n              'ORIGIN_SEA': 1 if origin == 'SEA' else 0,\n              'DEST_ATL': 1 if destination == 'ATL' else 0,\n              'DEST_DTW': 1 if destination == 'DTW' else 0,\n              'DEST_JFK': 1 if destination == 'JFK' else 0,\n              'DEST_MSP': 1 if destination == 'MSP' else 0,\n              'DEST_SEA': 1 if destination == 'SEA' else 0 }]\n\n    return model.predict_proba(pd.DataFrame(input))[0][0] #why [0][0] \n",
      "execution_count": 54,
      "outputs": []
    },
    {
      "metadata": {
        "trusted": true
      },
      "cell_type": "code",
      "source": "predict_delay('15/15/2018 21:45:00', 'JFK', 'ATL')",
      "execution_count": 55,
      "outputs": [
        {
          "output_type": "execute_result",
          "execution_count": 55,
          "data": {
            "text/plain": "\"Error parsing date/time - time data '15/15/2018 21:45:00' does not match format '%d/%m/%Y %H:%M:%S'\""
          },
          "metadata": {}
        }
      ]
    },
    {
      "metadata": {
        "trusted": true
      },
      "cell_type": "code",
      "source": "predict_delay('1/10/2018 21:45:00', 'JFK', 'ATL')",
      "execution_count": 56,
      "outputs": [
        {
          "output_type": "execute_result",
          "execution_count": 56,
          "data": {
            "text/plain": "0.6"
          },
          "metadata": {}
        }
      ]
    },
    {
      "metadata": {
        "trusted": true
      },
      "cell_type": "code",
      "source": "predict_delay('2/10/2018 21:45:00', 'JFK', 'ATL')",
      "execution_count": 57,
      "outputs": [
        {
          "output_type": "execute_result",
          "execution_count": 57,
          "data": {
            "text/plain": "0.8"
          },
          "metadata": {}
        }
      ]
    },
    {
      "metadata": {
        "trusted": true
      },
      "cell_type": "code",
      "source": "predict_delay('2/10/2018 10:00:00', 'ATL', 'SEA')",
      "execution_count": 58,
      "outputs": [
        {
          "output_type": "execute_result",
          "execution_count": 58,
          "data": {
            "text/plain": "1.0"
          },
          "metadata": {}
        }
      ]
    },
    {
      "metadata": {
        "trusted": true
      },
      "cell_type": "code",
      "source": "model.predict_proba?",
      "execution_count": 53,
      "outputs": []
    },
    {
      "metadata": {
        "trusted": true
      },
      "cell_type": "code",
      "source": "import numpy as np\n\nlabels = ('Oct 1', 'Oct 2', 'Oct 3', 'Oct 4', 'Oct 5', 'Oct 6', 'Oct 7')\nvalues = (predict_delay('1/10/2018 21:45:00', 'JFK', 'ATL'),\n          predict_delay('2/10/2018 21:45:00', 'JFK', 'ATL'),\n          predict_delay('3/10/2018 21:45:00', 'JFK', 'ATL'),\n          predict_delay('4/10/2018 21:45:00', 'JFK', 'ATL'),\n          predict_delay('5/10/2018 21:45:00', 'JFK', 'ATL'),\n          predict_delay('6/10/2018 21:45:00', 'JFK', 'ATL'),\n          predict_delay('7/10/2018 21:45:00', 'JFK', 'ATL'))\nalabels = np.arange(len(labels))\n\nplt.bar(alabels, values, align='center', alpha=0.5)\nplt.xticks(alabels, labels)\nplt.ylabel('Probability of On-Time Arrival')\nplt.ylim((0.0, 1.0)) # set limits of y from 0 to 1",
      "execution_count": 59,
      "outputs": [
        {
          "output_type": "execute_result",
          "execution_count": 59,
          "data": {
            "text/plain": "(0.0, 1.0)"
          },
          "metadata": {}
        },
        {
          "output_type": "display_data",
          "data": {
            "image/png": "[encoded data removed]",
            "text/plain": "<Figure size 432x288 with 1 Axes>"
          },
          "metadata": {
            "needs_background": "light"
          }
        }
      ]
    },
    {
      "metadata": {},
      "cell_type": "markdown",
      "source": "HOW LIKELY A FLIGHT WILL BE ON TIME LEAVING JFK FOR MSP AT 1PMON APRIL10 THROUGH 16?"
    },
    {
      "metadata": {
        "trusted": true
      },
      "cell_type": "code",
      "source": "import numpy as np\n\nlabels = ('april 10', 'april 11', 'april 12', 'april 13', 'april 14', 'april 15', 'april 16')\nvalues = (predict_delay('10/04/2018 13:00:00','JFK' , 'MSP'),\n          predict_delay('11/04/2018 13:00:00', 'JFK', 'MSP'),\n          predict_delay('12/04/2018 13:00:00', 'JFK', 'MSP'),\n          predict_delay('13/04/2018 13:00:00', 'JFK','MSP' ),\n          predict_delay('14/04/2018 13:00:00', 'JFK', 'MSP'),\n          predict_delay('15/04/2018 13:00:00','JFK' ,'MSP' ),\n          predict_delay('16/04/2018 13:00:00','JFK' ,'MSP' ))\nalabels = np.arange(len(labels))\n\nplt.bar(alabels, values, align='center', alpha=0.5)\nplt.xticks(alabels, labels)\nplt.ylabel('Probability of On-Time Arrival')\nplt.ylim((0.0, 1.0))",
      "execution_count": 62,
      "outputs": [
        {
          "output_type": "execute_result",
          "execution_count": 62,
          "data": {
            "text/plain": "(0.0, 1.0)"
          },
          "metadata": {}
        },
        {
          "output_type": "display_data",
          "data": {
            "image/png": "[encoded data removed]",
            "text/plain": "<Figure size 432x288 with 1 Axes>"
          },
          "metadata": {
            "needs_background": "light"
          }
        }
      ]
    },
    {
      "metadata": {},
      "cell_type": "markdown",
      "source": "graph the probability that flights leaving SEA for ATL at 9:00 a.m., noon, 3:00 p.m., 6:00 p.m., and 9:00 p.m. on January 30 will arrive on time?"
    },
    {
      "metadata": {
        "trusted": true
      },
      "cell_type": "code",
      "source": "import numpy as np\n\nlabels = ('9 am', '3 pm', '6 pm', '9 pm')\nvalues = (predict_delay('30/01/2018 09:00:00','SEA' , 'ATL'),\n          predict_delay('30/01/2018 15:00:00', 'SEA', 'ATL'),\n          predict_delay('30/01/2018 18:00:00', 'SEA', 'ATL'),\n          predict_delay('30/01/2018 21:00:00', 'SEA','ATL'))\nalabels = np.arange(len(labels))",
      "execution_count": 63,
      "outputs": []
    },
    {
      "metadata": {
        "trusted": true
      },
      "cell_type": "code",
      "source": "alabels",
      "execution_count": 64,
      "outputs": [
        {
          "output_type": "execute_result",
          "execution_count": 64,
          "data": {
            "text/plain": "array([0, 1, 2, 3])"
          },
          "metadata": {}
        }
      ]
    },
    {
      "metadata": {
        "trusted": true
      },
      "cell_type": "code",
      "source": "plt.bar(alabels, values, align='center', alpha=0.5)\nplt.xticks(alabels, labels)\nplt.ylabel('Probability of On-Time Arrival')\nplt.ylim((0.0, 1.0)) ",
      "execution_count": 65,
      "outputs": [
        {
          "output_type": "execute_result",
          "execution_count": 65,
          "data": {
            "text/plain": "(0.0, 1.0)"
          },
          "metadata": {}
        },
        {
          "output_type": "display_data",
          "data": {
            "image/png": "[encoded data removed]",
            "text/plain": "<Figure size 432x288 with 1 Axes>"
          },
          "metadata": {
            "needs_background": "light"
          }
        }
      ]
    },
    {
      "metadata": {
        "trusted": true
      },
      "cell_type": "code",
      "source": "plt.ylim?",
      "execution_count": 67,
      "outputs": []
    },
    {
      "metadata": {
        "trusted": true
      },
      "cell_type": "code",
      "source": "",
      "execution_count": null,
      "outputs": []
    }
  ],
  "metadata": {
    "kernelspec": {
      "name": "python36",
      "display_name": "Python 3.6",
      "language": "python"
    },
    "language_info": {
      "mimetype": "text/x-python",
      "nbconvert_exporter": "python",
      "name": "python",
      "pygments_lexer": "ipython3",
      "version": "3.6.6",
      "file_extension": ".py",
      "codemirror_mode": {
        "version": 3,
        "name": "ipython"
      }
    }
  },
  "nbformat": 4,
  "nbformat_minor": 2
}